{
 "cells": [
  {
   "cell_type": "code",
   "execution_count": 24,
   "metadata": {
    "collapsed": true
   },
   "outputs": [],
   "source": [
    "from matplotlib import pyplot as plt\n",
    "from matplotlib import image as mpimg\n",
    "import os\n",
    "from tqdm import tqdm\n",
    "from skimage.transform import resize\n",
    "from scipy import ndimage\n",
    "from skimage.morphology import label\n",
    "import numpy as np\n",
    "import pandas as pd\n",
    "%matplotlib inline"
   ]
  },
  {
   "cell_type": "code",
   "execution_count": 25,
   "metadata": {
    "collapsed": true
   },
   "outputs": [],
   "source": [
    "image_heigth = 256\n",
    "image_width = 256\n",
    "\n",
    "mask_heigth = 256\n",
    "mask_width = 256\n",
    "\n",
    "def get_images_masks(root_dir):\n",
    "\n",
    "    images = []\n",
    "    for image_folder in tqdm(os.listdir(root_dir)):\n",
    "        image_id = image_folder\n",
    "        image_dir = root_dir + image_folder\n",
    "        image_file = image_dir + '/images/' + image_id + '.png'\n",
    "        image = mpimg.imread(image_file)\n",
    "        #image = resize(image, (image_heigth, image_width), mode='constant', preserve_range=True)\n",
    "        masks = np.zeros((image.shape[0],image.shape[1]))\n",
    "        masks_dir = image_dir + '/masks/'\n",
    "        \n",
    "        for mask in os.listdir(masks_dir):\n",
    "            mask_file = masks_dir + mask\n",
    "            mask = mpimg.imread(mask_file)\n",
    "            #mask = resize(mask, (mask_heigth,mask_width), mode='constant', preserve_range=True)\n",
    "            masks = np.add(masks,mask)\n",
    "        \n",
    "        images.append({'image_id': image_id, 'image': image,'masks': masks })\n",
    "        \n",
    "    return images\n",
    "\n",
    "def plot_images(rows,cols,images):\n",
    "    image_index = 0\n",
    "    fig, ax = plt.subplots(nrows=rows, ncols=cols, figsize=(30,30), squeeze=False)\n",
    "    for r in range(rows):\n",
    "        for c in range(cols):\n",
    "            ax[r][c].imshow(images[image_index])\n",
    "            image_index += 1"
   ]
  },
  {
   "cell_type": "code",
   "execution_count": 26,
   "metadata": {
    "collapsed": false
   },
   "outputs": [
    {
     "name": "stderr",
     "output_type": "stream",
     "text": [
      "100%|██████████| 670/670 [01:01<00:00, 10.84it/s]\n"
     ]
    }
   ],
   "source": [
    "images = get_images_masks(\"./input/stage1_train/\")"
   ]
  },
  {
   "cell_type": "code",
   "execution_count": 27,
   "metadata": {
    "collapsed": false
   },
   "outputs": [],
   "source": [
    "def separate_masks(combined_masks):\n",
    "    labeled_masks = label(combined_masks)\n",
    "    masks = []\n",
    "    for i in range(1,np.max(labeled_masks)+1):\n",
    "        mask = (labeled_masks == i).astype(int)\n",
    "        masks.append(mask)\n",
    "    \n",
    "    return masks\n",
    "\n",
    "# def separate_masks(combined_masks):\n",
    "#     labeled_masks = ndimage.label(combined_masks)\n",
    "#     masks = []\n",
    "#     for i in range(1,labeled_masks[1]+1):\n",
    "#         mask = (labeled_masks[0] == i).astype(int)\n",
    "#         masks.append(mask)\n",
    "    \n",
    "#     return masks\n",
    "\n",
    "\n",
    "def identify_postive_pixels(mask):\n",
    "\n",
    "    return list(np.argwhere(mask.T.flatten()>0)[:,0])\n",
    "\n",
    "\n",
    "def encode_postive_pixels(postive_pixels):\n",
    "    EncodedPixels = []\n",
    "    for i in range(len(postive_pixels)):\n",
    "        if(postive_pixels[i] - 1 in postive_pixels):\n",
    "            EncodedPixels[-1][1] += 1\n",
    "\n",
    "\n",
    "        else:                 \n",
    "            EncodedPixels.append([postive_pixels[i]+1,1])\n",
    "            \n",
    "    encodedPixels = ''    \n",
    "    for item in EncodedPixels:\n",
    "        for i in item:\n",
    "            encodedPixels = encodedPixels + str(i) + ' '\n",
    "           \n",
    "\n",
    "    return encodedPixels\n",
    "\n",
    "def create_submission_dataFrame(test_images,resized_masks):\n",
    "    submission = []\n",
    "    for index in tqdm(range(len(test_images))):\n",
    "        image_id = test_images[index]['image_id']\n",
    "        masks = separate_masks(resized_masks[index])\n",
    "        for j in range(len(masks)):\n",
    "            postive_pixels = identify_postive_pixels(masks[j])\n",
    "            encoded_pixels = encode_postive_pixels(postive_pixels)\n",
    "            submission.append([image_id, encoded_pixels])\n",
    "    return pd.DataFrame(np.array(submission),columns=['ImageId','EncodedPixels'])"
   ]
  },
  {
   "cell_type": "code",
   "execution_count": 28,
   "metadata": {
    "collapsed": true
   },
   "outputs": [],
   "source": [
    "masks = [image['masks'] for image in images]"
   ]
  },
  {
   "cell_type": "code",
   "execution_count": 29,
   "metadata": {
    "collapsed": false
   },
   "outputs": [
    {
     "name": "stderr",
     "output_type": "stream",
     "text": [
      "100%|██████████| 670/670 [05:18<00:00,  2.10it/s]\n"
     ]
    }
   ],
   "source": [
    "stage1_train = create_submission_dataFrame(images,masks)\n",
    "stage1_train.to_csv('my_encoded_pixels.csv',index=False)"
   ]
  },
  {
   "cell_type": "code",
   "execution_count": 30,
   "metadata": {
    "collapsed": true
   },
   "outputs": [],
   "source": [
    "test_ids = [image['image_id'] for image in images]\n",
    "preds_test_upsampled = masks\n",
    "\n",
    "\n",
    "# Run-length encoding stolen from https://www.kaggle.com/rakhlin/fast-run-length-encoding-python\n",
    "def rle_encoding(x):\n",
    "    dots = np.where(x.T.flatten() == 1)[0]\n",
    "    run_lengths = []\n",
    "    prev = -2\n",
    "    for b in dots:\n",
    "        if (b>prev+1): run_lengths.extend((b + 1, 0))\n",
    "        run_lengths[-1] += 1\n",
    "        prev = b\n",
    "    return run_lengths\n",
    "\n",
    "def prob_to_rles(x, cutoff=0.5):\n",
    "    lab_img = label(x > cutoff)\n",
    "    for i in range(1, lab_img.max() + 1):\n",
    "        yield rle_encoding(lab_img == i)\n",
    "        \n",
    "        \n",
    "        \n",
    "\n",
    "new_test_ids = []\n",
    "rles = []\n",
    "for n, id_ in enumerate(test_ids):\n",
    "    rle = list(prob_to_rles(preds_test_upsampled[n]))\n",
    "    rles.extend(rle)\n",
    "    new_test_ids.extend([id_] * len(rle))\n",
    "    \n",
    "    \n",
    "# Create submission DataFrame\n",
    "sub = pd.DataFrame()\n",
    "sub['ImageId'] = new_test_ids\n",
    "sub['EncodedPixels'] = pd.Series(rles).apply(lambda x: ' '.join(str(y) for y in x))\n",
    "sub.to_csv('stolen_encoded_pixels.csv', index=False)"
   ]
  },
  {
   "cell_type": "code",
   "execution_count": null,
   "metadata": {
    "collapsed": true
   },
   "outputs": [],
   "source": [
    "ImageId = '04acab7636c4cf61d288a5962f15fa456b7bde31a021e5deedfbf51288e4001e'\n",
    "\n",
    "the_image = filter(lambda x: x['image_id'] == ImageId, images)[0]"
   ]
  },
  {
   "cell_type": "code",
   "execution_count": null,
   "metadata": {
    "collapsed": false
   },
   "outputs": [],
   "source": [
    "the_image_mask = the_image['masks']"
   ]
  },
  {
   "cell_type": "code",
   "execution_count": null,
   "metadata": {
    "collapsed": false
   },
   "outputs": [],
   "source": [
    "plt.imshow(the_image_mask)"
   ]
  },
  {
   "cell_type": "code",
   "execution_count": null,
   "metadata": {
    "collapsed": true
   },
   "outputs": [],
   "source": [
    "the_image_masked_scipy = ndimage.label(the_image_mask)"
   ]
  },
  {
   "cell_type": "code",
   "execution_count": null,
   "metadata": {
    "collapsed": false
   },
   "outputs": [],
   "source": [
    "print(the_image_masked[1])"
   ]
  },
  {
   "cell_type": "code",
   "execution_count": null,
   "metadata": {
    "collapsed": true
   },
   "outputs": [],
   "source": [
    "the_image_skimage = label(the_image_mask)"
   ]
  },
  {
   "cell_type": "code",
   "execution_count": null,
   "metadata": {
    "collapsed": false
   },
   "outputs": [],
   "source": [
    "np.max(the_image_skimage)"
   ]
  },
  {
   "cell_type": "code",
   "execution_count": null,
   "metadata": {
    "collapsed": true
   },
   "outputs": [],
   "source": []
  }
 ],
 "metadata": {
  "kernelspec": {
   "display_name": "Python [conda root]",
   "language": "python",
   "name": "conda-root-py"
  },
  "language_info": {
   "codemirror_mode": {
    "name": "ipython",
    "version": 2
   },
   "file_extension": ".py",
   "mimetype": "text/x-python",
   "name": "python",
   "nbconvert_exporter": "python",
   "pygments_lexer": "ipython2",
   "version": "2.7.12"
  }
 },
 "nbformat": 4,
 "nbformat_minor": 2
}
