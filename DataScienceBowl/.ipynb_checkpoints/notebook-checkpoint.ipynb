{
 "cells": [
  {
   "cell_type": "code",
   "execution_count": 5,
   "metadata": {
    "_cell_guid": "8bace71d-a80e-4c20-bad8-6e7f5e60d466",
    "_uuid": "cbf318f2a902054ef2f5e4543ee7def699cc91c6",
    "collapsed": false
   },
   "outputs": [
    {
     "name": "stdout",
     "output_type": "stream",
     "text": [
      "stage1_test\n",
      "stage1_test.zip\n",
      "stage1_train\n",
      "stage1_train.zip\n",
      "\n"
     ]
    }
   ],
   "source": [
    "# This Python 3 environment comes with many helpful analytics libraries installed\n",
    "# It is defined by the kaggle/python docker image: https://github.com/kaggle/docker-python\n",
    "# For example, here's several helpful packages to load in \n",
    "\n",
    "import numpy as np # linear algebra\n",
    "import pandas as pd # data processing, CSV file I/O (e.g. pd.read_csv)\n",
    "\n",
    "# Input data files are available in the \"../input/\" directory.\n",
    "# For example, running this (by clicking run or pressing Shift+Enter) will list the files in the input directory\n",
    "\n",
    "from subprocess import check_output\n",
    "print(check_output([\"ls\", \"./input\"]).decode(\"utf8\"))\n",
    "#print(check_output([\"ls\", \"../input/stage1_train/\"]).decode(\"utf8\"))"
   ]
  },
  {
   "cell_type": "code",
   "execution_count": 6,
   "metadata": {
    "_cell_guid": "b72a4d17-0890-4c07-86f0-105240b8ae3e",
    "_uuid": "d860f37de39f41cffda95c96831f00d9c1b08762",
    "collapsed": true
   },
   "outputs": [],
   "source": [
    "#y_train = pd.read_csv('../input/stage1_train_labels.csv')\n",
    "#print(y_train['EncodedPixels'])\n",
    "#print(y_train.iloc[6]['EncodedPixels'])"
   ]
  },
  {
   "cell_type": "code",
   "execution_count": 7,
   "metadata": {
    "_cell_guid": "357a71a5-bc8c-4b26-aec6-c72173112064",
    "_uuid": "cddb4e8bd403fa26cb68cefcfba6f56ee0a7f3f6",
    "collapsed": false
   },
   "outputs": [
    {
     "ename": "ImportError",
     "evalue": "No module named skimage.transform",
     "output_type": "error",
     "traceback": [
      "\u001b[0;31m---------------------------------------------------------------------------\u001b[0m",
      "\u001b[0;31mImportError\u001b[0m                               Traceback (most recent call last)",
      "\u001b[0;32m<ipython-input-7-93261214ce81>\u001b[0m in \u001b[0;36m<module>\u001b[0;34m()\u001b[0m\n\u001b[1;32m      3\u001b[0m \u001b[0;32mimport\u001b[0m \u001b[0mos\u001b[0m\u001b[0;34m\u001b[0m\u001b[0m\n\u001b[1;32m      4\u001b[0m \u001b[0;32mfrom\u001b[0m \u001b[0mtqdm\u001b[0m \u001b[0;32mimport\u001b[0m \u001b[0mtqdm\u001b[0m\u001b[0;34m\u001b[0m\u001b[0m\n\u001b[0;32m----> 5\u001b[0;31m \u001b[0;32mfrom\u001b[0m \u001b[0mskimage\u001b[0m\u001b[0;34m.\u001b[0m\u001b[0mtransform\u001b[0m \u001b[0;32mimport\u001b[0m \u001b[0mresize\u001b[0m\u001b[0;34m\u001b[0m\u001b[0m\n\u001b[0m",
      "\u001b[0;31mImportError\u001b[0m: No module named skimage.transform"
     ]
    }
   ],
   "source": [
    "from matplotlib import pyplot as plt\n",
    "from matplotlib import image as mpimg\n",
    "import os\n",
    "from tqdm import tqdm\n",
    "from skimage.transform import resize"
   ]
  },
  {
   "cell_type": "code",
   "execution_count": null,
   "metadata": {
    "_cell_guid": "09ba2d85-022a-4bf1-a2cf-df4b1a757eed",
    "_uuid": "0da47adb1602099b816eb1c2f4d05fe74f6f21c9",
    "collapsed": true
   },
   "outputs": [],
   "source": [
    "image_heigth = 572\n",
    "image_width = 572\n",
    "\n",
    "mask_heigth = 388\n",
    "mask_width = 388\n",
    "\n",
    "def get_images_masks():\n",
    "\n",
    "    images = []\n",
    "    root_dir = \"../input/stage1_train/\"\n",
    "    for image_folder in tqdm(os.listdir(root_dir)):\n",
    "        image_id = image_folder\n",
    "        image_dir = root_dir + image_folder\n",
    "        image_file = image_dir + '/images/' + image_id + '.png'\n",
    "        image = mpimg.imread(image_file)\n",
    "        image = resize(image, (image_heigth, image_width), mode='constant', preserve_range=True)\n",
    "        masks = np.zeros((mask_heigth,mask_width))\n",
    "        masks_dir = image_dir + '/masks/'\n",
    "        \n",
    "        for mask in os.listdir(masks_dir):\n",
    "            mask_file = masks_dir + mask\n",
    "            mask = mpimg.imread(mask_file)\n",
    "            mask = resize(mask, (mask_heigth,mask_width), mode='constant', preserve_range=True)\n",
    "            masks = np.add(masks,mask)\n",
    "        \n",
    "        images.append({'image_id': image_id, 'image': image,'masks': masks })\n",
    "        \n",
    "    return images\n",
    "\n",
    "def plot_images(rows,cols,images):\n",
    "    image_index = 0\n",
    "    fig, ax = plt.subplots(nrows=rows, ncols=cols, figsize=(30,30))\n",
    "    for r in range(rows):\n",
    "        for c in range(cols):\n",
    "            ax[r][c].imshow(images[image_index])\n",
    "            image_index += 1"
   ]
  },
  {
   "cell_type": "code",
   "execution_count": null,
   "metadata": {
    "_cell_guid": "aab0d08e-3710-4f84-94a8-1b85e8817f1f",
    "_uuid": "a41e4a189fcc0a20358052af20d0450b69592a98",
    "collapsed": true
   },
   "outputs": [],
   "source": [
    "images = get_images_masks()"
   ]
  },
  {
   "cell_type": "code",
   "execution_count": null,
   "metadata": {
    "_cell_guid": "edd7a3b4-4a5f-4e35-9658-e9a03043c281",
    "_uuid": "0581e7935698cf61dd94af0f702e63b99461eb5f",
    "collapsed": true
   },
   "outputs": [],
   "source": [
    "images_array = [image['image'] for image in images]\n",
    "plot_images(rows=5,cols=5,images=images_array)"
   ]
  },
  {
   "cell_type": "code",
   "execution_count": null,
   "metadata": {
    "_cell_guid": "df722e63-92e6-42bc-ac28-8c1c18e3efce",
    "_uuid": "7fc2ac37258fc8e1aaaa0c20f7e74dd88e4e4597",
    "collapsed": true
   },
   "outputs": [],
   "source": [
    "X_train = np.array(images_array).reshape(670,image_heigth,image_width,4)\n",
    "print(X_train.shape)"
   ]
  },
  {
   "cell_type": "code",
   "execution_count": null,
   "metadata": {
    "_cell_guid": "635bb9c2-2bf4-4d88-96c2-e9a112304d07",
    "_uuid": "9acd9fbc771f5f57f1127a0dcd4c927c3dad3877",
    "collapsed": true
   },
   "outputs": [],
   "source": [
    "masks_array = [image['masks'] for image in images]\n",
    "plot_images(rows=5,cols=5,images=masks_array)"
   ]
  },
  {
   "cell_type": "code",
   "execution_count": null,
   "metadata": {
    "_cell_guid": "129c599a-2a75-4a8a-85b9-b628339b21ba",
    "_uuid": "7045a8bcbc9878aa3622f7baed01ff64dcbaced5",
    "collapsed": true
   },
   "outputs": [],
   "source": [
    "Y_train = np.array(masks_array).reshape(670,mask_heigth,mask_width,1)\n",
    "print(Y_train.shape)"
   ]
  },
  {
   "cell_type": "code",
   "execution_count": null,
   "metadata": {
    "_cell_guid": "20c71a0d-2879-48a4-beac-77ab143eafe1",
    "_uuid": "42f3853ea71c4f4ff5af02914c4522e0d4aae07c",
    "collapsed": true
   },
   "outputs": [],
   "source": [
    "from keras.layers import Input, Conv2D, MaxPooling2D, Conv2DTranspose, concatenate, Cropping2D\n",
    "from keras.models import Model\n",
    "from keras.callbacks import EarlyStopping, ModelCheckpoint"
   ]
  },
  {
   "cell_type": "code",
   "execution_count": null,
   "metadata": {
    "_cell_guid": "e9c35a21-34e0-413a-9725-f37505539714",
    "_uuid": "f20a75d77c59e499fc085dfa09f7ee92ee1224b0",
    "collapsed": true
   },
   "outputs": [],
   "source": [
    "def model(height,width,channels):\n",
    "    X_Input = Input(shape=(height,width,channels))\n",
    "    X = Conv2D(filters=64, kernel_size=(3,3),activation='relu', strides=(1,1), padding='valid')(X_Input)\n",
    "    X = Conv2D(filters=64, kernel_size=(3,3),activation='relu', strides=(1,1), padding='valid')(X)\n",
    "    CX1 = Cropping2D(cropping=(88))(X)\n",
    "    \n",
    "    X = MaxPooling2D(pool_size=(2,2), strides=2)(X)\n",
    "    X = Conv2D(filters=128, kernel_size=(3,3),activation='relu', strides=(1,1), padding='valid')(X)    \n",
    "    X = Conv2D(filters=128, kernel_size=(3,3),activation='relu', strides=(1,1), padding='valid')(X)\n",
    "    CX2 = Cropping2D(cropping=(40))(X)\n",
    "    \n",
    "    X = MaxPooling2D(pool_size=(2,2), strides=2)(X)    \n",
    "    X = Conv2D(filters=256, kernel_size=(3,3),activation='relu', strides=(1,1), padding='valid')(X)\n",
    "    X = Conv2D(filters=256, kernel_size=(3,3),activation='relu', strides=(1,1), padding='valid')(X)\n",
    "    CX3 = Cropping2D(cropping=(16))(X)\n",
    "    \n",
    "    X = MaxPooling2D(pool_size=(2,2), strides=2)(X)    \n",
    "    X = Conv2D(filters=512, kernel_size=(3,3),activation='relu', strides=(1,1), padding='valid')(X)\n",
    "    X = Conv2D(filters=512, kernel_size=(3,3),activation='relu', strides=(1,1), padding='valid')(X)\n",
    "    CX4 = Cropping2D(cropping=(4))(X)\n",
    "    \n",
    "    X = MaxPooling2D(pool_size=(2,2), strides=2)(X)    \n",
    "    X = Conv2D(filters=1024, kernel_size=(3,3),activation='relu', strides=(1,1), padding='valid')(X)\n",
    "    X = Conv2D(filters=1024, kernel_size=(3,3),activation='relu', strides=(1,1), padding='valid')(X)\n",
    "    \n",
    "    X = Conv2DTranspose(filters=512, kernel_size=(2,2), strides=(2,2),activation='relu')(X)\n",
    "    X = concatenate([X,CX4])\n",
    "    X = Conv2D(filters=512, kernel_size=(3,3),activation='relu', strides=(1,1), padding='valid')(X)\n",
    "    X = Conv2D(filters=512, kernel_size=(3,3),activation='relu', strides=(1,1), padding='valid')(X)\n",
    "    \n",
    "    X = Conv2DTranspose(filters=256, kernel_size=(2,2), strides=(2,2),activation='relu')(X)\n",
    "    X = concatenate([X,CX3])\n",
    "    X = Conv2D(filters=256, kernel_size=(3,3),activation='relu', strides=(1,1), padding='valid')(X)\n",
    "    X = Conv2D(filters=256, kernel_size=(3,3),activation='relu', strides=(1,1), padding='valid')(X)\n",
    "    \n",
    "    X = Conv2DTranspose(filters=128, kernel_size=(2,2), strides=(2,2),activation='relu')(X)\n",
    "    X = concatenate([X,CX2])\n",
    "    X = Conv2D(filters=128, kernel_size=(3,3),activation='relu', strides=(1,1), padding='valid')(X)\n",
    "    X = Conv2D(filters=128, kernel_size=(3,3),activation='relu', strides=(1,1), padding='valid')(X)\n",
    "    \n",
    "    X = Conv2DTranspose(filters=64, kernel_size=(2,2), strides=(2,2),activation='relu')(X)\n",
    "    X = concatenate([X,CX1])\n",
    "    X = Conv2D(filters=64, kernel_size=(3,3),activation='relu', strides=(1,1), padding='valid')(X)\n",
    "    X = Conv2D(filters=64, kernel_size=(3,3),activation='relu', strides=(1,1), padding='valid')(X)\n",
    "    \n",
    "    X = Conv2D(filters=1, kernel_size=(3,3),activation='relu', strides=(1,1), padding='same')(X)\n",
    "    \n",
    "    model = Model(input=X_Input, output=X)\n",
    "    model.summary()\n",
    "    \n",
    "    return model"
   ]
  },
  {
   "cell_type": "code",
   "execution_count": null,
   "metadata": {
    "_cell_guid": "dab91cf7-5c7e-431a-8b79-6fad886a3b54",
    "_uuid": "88ed9ade6eaa5a5d5f29959e1e0aca9ca94a37fb",
    "collapsed": true
   },
   "outputs": [],
   "source": [
    "model = model(image_heigth,image_width,4)"
   ]
  },
  {
   "cell_type": "code",
   "execution_count": null,
   "metadata": {
    "_cell_guid": "d515e448-42ac-4eff-8582-d371e543234e",
    "_uuid": "a314e33eb1639f3f32cc4e670566db064e2ba337",
    "collapsed": true
   },
   "outputs": [],
   "source": [
    "model.compile(optimizer='adam',loss='binary_crossentropy')"
   ]
  },
  {
   "cell_type": "code",
   "execution_count": null,
   "metadata": {
    "_cell_guid": "57d89576-8d5f-4b5e-a83e-411c4ccd1898",
    "_uuid": "bece24d264a3ae31949200cae336940f45df3343",
    "collapsed": true
   },
   "outputs": [],
   "source": [
    "earlystopper = EarlyStopping(patience=5, verbose=1)\n",
    "checkpointer = ModelCheckpoint('model-dsbowl2018-1.h5', verbose=1, save_best_only=True)\n",
    "results = model.fit(X_train, Y_train, validation_split=0.1, batch_size=1, epochs=50, \n",
    "                    callbacks=[earlystopper, checkpointer])"
   ]
  },
  {
   "cell_type": "code",
   "execution_count": null,
   "metadata": {
    "_cell_guid": "0bb86b31-7645-435c-b5bb-ad80a70d292e",
    "_uuid": "ab1ea28e6f6813f3fb920ed33305160e161aebe1",
    "collapsed": true
   },
   "outputs": [],
   "source": []
  }
 ],
 "metadata": {
  "anaconda-cloud": {},
  "kernelspec": {
   "display_name": "Python [conda root]",
   "language": "python",
   "name": "conda-root-py"
  },
  "language_info": {
   "codemirror_mode": {
    "name": "ipython",
    "version": 2
   },
   "file_extension": ".py",
   "mimetype": "text/x-python",
   "name": "python",
   "nbconvert_exporter": "python",
   "pygments_lexer": "ipython2",
   "version": "2.7.12"
  }
 },
 "nbformat": 4,
 "nbformat_minor": 1
}
