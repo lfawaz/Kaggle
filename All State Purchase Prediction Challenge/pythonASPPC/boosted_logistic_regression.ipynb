{
 "cells": [
  {
   "cell_type": "code",
   "execution_count": 2,
   "metadata": {
    "collapsed": false
   },
   "outputs": [],
   "source": [
    "from  sklearn.cross_validation import train_test_split\n",
    "from utils import load_clean_data\n",
    "import numpy as np\n",
    "from sklearn.metrics import hamming_loss\n",
    "from sklearn import preprocessing\n",
    "from sklearn import ensemble\n",
    "%matplotlib inline\n",
    "\n"
   ]
  },
  {
   "cell_type": "code",
   "execution_count": 8,
   "metadata": {
    "collapsed": false
   },
   "outputs": [],
   "source": [
    "#create training and testing set\n",
    "def test_boosting_classifier(data, learning_rate=0.1,n_estimators=100,subsample=1,scale=1):\n",
    "    \n",
    "    #preprossing data if necessary \n",
    "    X_raw, y = data\n",
    "    \n",
    "    if scale == 1:\n",
    "        X = preprocessing.scale(X_raw)\n",
    "    else:\n",
    "        X = X_raw\n",
    "        \n",
    "    X_train, X_test, y_train, y_test = train_test_split(X,y, test_size =0.2,random_state=42)\n",
    "\n",
    "    #create logistic model\n",
    "    ml_model = ensemble.GradientBoostingClassifier(learning_rate=learning_rate, n_estimators=n_estimators,subsample=subsample)\n",
    "\n",
    "    #train model\n",
    "    print(\"training model...\")\n",
    "    ml_logmodel = ml_model.fit(X_train,y_train)\n",
    "\n",
    "    #test model\n",
    "    print(\"testing model...\")\n",
    "    y_pred = ml_logmodel.predict(X_test)\n",
    "\n",
    "\n",
    "    #print loss percentage\n",
    "    return hamming_loss(y_test,y_pred)"
   ]
  },
  {
   "cell_type": "code",
   "execution_count": 10,
   "metadata": {
    "collapsed": false
   },
   "outputs": [
    {
     "name": "stdout",
     "output_type": "stream",
     "text": [
      "load data...\n",
      "removing nulls...\n",
      "adding is_last column ...\n",
      "adding is_final column -predictor-\n",
      "adding viewed total column...\n",
      "converting states to floats...\n",
      "converting car values to floats...\n",
      "merging all datasets...\n",
      "creating final model...\n",
      "Done!\n"
     ]
    },
    {
     "name": "stderr",
     "output_type": "stream",
     "text": [
      "/Users/lfawaz/miniconda2/envs/python27/lib/python2.7/site-packages/sklearn/utils/validation.py:420: DataConversionWarning: Data with input dtype object was converted to float64 by the scale function.\n",
      "  warnings.warn(msg, DataConversionWarning)\n"
     ]
    },
    {
     "name": "stdout",
     "output_type": "stream",
     "text": [
      "training model...\n",
      "testing model...\n",
      "Hamming Loss:  0.208116288892\n"
     ]
    }
   ],
   "source": [
    "def main():\n",
    "    #load data into matrics X,y\n",
    "    data = load_clean_data()\n",
    "    Hamming_Loss = test_boosting_classifier(data, learning_rate=0.1,n_estimators=100,subsample=0.5,scale=1)\n",
    "    print \"Hamming Loss: \", Hamming_Loss\n",
    "    \n",
    "if __name__ == '__main__':\n",
    "    main()"
   ]
  },
  {
   "cell_type": "code",
   "execution_count": null,
   "metadata": {
    "collapsed": true
   },
   "outputs": [],
   "source": []
  }
 ],
 "metadata": {
  "kernelspec": {
   "display_name": "Python 2",
   "language": "python",
   "name": "python2"
  },
  "language_info": {
   "codemirror_mode": {
    "name": "ipython",
    "version": 2
   },
   "file_extension": ".py",
   "mimetype": "text/x-python",
   "name": "python",
   "nbconvert_exporter": "python",
   "pygments_lexer": "ipython2",
   "version": "2.7.11"
  }
 },
 "nbformat": 4,
 "nbformat_minor": 0
}
