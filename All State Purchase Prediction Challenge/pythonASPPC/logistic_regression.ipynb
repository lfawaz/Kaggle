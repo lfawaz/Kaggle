{
 "cells": [
  {
   "cell_type": "code",
   "execution_count": 1,
   "metadata": {
    "collapsed": false
   },
   "outputs": [],
   "source": [
    "from  sklearn.cross_validation import train_test_split\n",
    "from sklearn import linear_model\n",
    "from sklearn.metrics import confusion_matrix\n",
    "from utils import load_clean_data\n",
    "import matplotlib.pyplot as plt\n",
    "import numpy as np\n",
    "from sklearn.metrics import hamming_loss\n",
    "from sklearn import preprocessing\n",
    "%matplotlib inline\n",
    "\n"
   ]
  },
  {
   "cell_type": "code",
   "execution_count": 2,
   "metadata": {
    "collapsed": false
   },
   "outputs": [],
   "source": [
    "#create training and testing set\n",
    "def test_logistic_Regression(data, penalty='l2', tol=0.01, C=1,  max_iter=200,scale=0):\n",
    "    \n",
    "    #preprossing data if necessary \n",
    "    X_raw, y = data\n",
    "    \n",
    "    if scale == 1:\n",
    "        X = preprocessing.scale(X_raw)\n",
    "    else:\n",
    "        X = X_raw\n",
    "        \n",
    "    X_train, X_test, y_train, y_test = train_test_split(X,y, test_size =0.2,random_state=42)\n",
    "\n",
    "    #create logistic model\n",
    "    ml_model = linear_model.LogisticRegression(penalty=penalty, tol=tol,C=C, max_iter=max_iter)\n",
    "\n",
    "    #train model\n",
    "    print(\"training model...\")\n",
    "    ml_logmodel = ml_model.fit(X_train,y_train)\n",
    "\n",
    "    #test model\n",
    "    print(\"testing model...\")\n",
    "    y_pred = ml_logmodel.predict(X_test)\n",
    "\n",
    "\n",
    "    #print loss percentage\n",
    "    return ml_model.coef_, hamming_loss(y_test,y_pred)"
   ]
  },
  {
   "cell_type": "code",
   "execution_count": 3,
   "metadata": {
    "collapsed": false
   },
   "outputs": [
    {
     "name": "stdout",
     "output_type": "stream",
     "text": [
      "load data...\n",
      "removing nulls...\n"
     ]
    },
    {
     "name": "stderr",
     "output_type": "stream",
     "text": [
      "utils.py:36: SettingWithCopyWarning: \n",
      "A value is trying to be set on a copy of a slice from a DataFrame.\n",
      "Try using .loc[row_indexer,col_indexer] = value instead\n",
      "\n",
      "See the caveats in the documentation: http://pandas.pydata.org/pandas-docs/stable/indexing.html#indexing-view-versus-copy\n",
      "  is_last_data['is_last'] = 0\n"
     ]
    },
    {
     "name": "stdout",
     "output_type": "stream",
     "text": [
      "adding is_last column ...\n",
      "adding is_final column -predictor-\n",
      "adding viewed total column...\n",
      "converting states to floats...\n",
      "converting car values to floats...\n",
      "merging all datasets...\n",
      "creating final model...\n",
      "Done!\n"
     ]
    },
    {
     "name": "stderr",
     "output_type": "stream",
     "text": [
      "/Users/lfawaz/miniconda2/envs/python27/lib/python2.7/site-packages/sklearn/utils/validation.py:420: DataConversionWarning: Data with input dtype object was converted to float64 by the scale function.\n",
      "  warnings.warn(msg, DataConversionWarning)\n"
     ]
    },
    {
     "name": "stdout",
     "output_type": "stream",
     "text": [
      "training model...\n",
      "testing model...\n",
      "[[  9.03134361e-03   4.07942863e-02  -4.64788655e-02   3.88158195e-02\n",
      "    6.60389301e-02   7.71064284e-03   7.24991746e-03  -1.99707954e-02\n",
      "   -3.27343185e-02  -1.35215944e-02  -2.05233989e-02   1.90223420e-03\n",
      "   -2.49361827e-03   2.46789406e-02   4.44644028e-02   1.51436027e-02\n",
      "    7.05947515e-03   2.60416754e-02  -1.38554193e-02   6.03938123e-02\n",
      "   -2.05972302e-02  -1.27946434e-02   1.40220000e-02   7.14519317e-03\n",
      "   -3.54926723e-03   1.19434880e-02   3.62890531e-02  -1.44834596e-02\n",
      "   -3.58890567e-02   1.15818118e-02   3.15451061e-02   7.87433904e-03\n",
      "   -2.82960329e-02  -4.73039727e-02  -9.23677021e-03   4.07404353e-02\n",
      "    1.25679461e-02   1.62224478e-03   1.03102065e-02  -2.50877835e-02\n",
      "   -4.78721508e-03   8.22981738e-03   3.33115326e-02  -1.75204814e-01\n",
      "    7.46118081e-03   7.38324720e-03   6.30823466e-02   1.10405758e-02\n",
      "    1.14394941e-02   1.26994595e-02  -6.83700161e-04  -2.23149784e-03\n",
      "    1.58789000e-02   3.90022712e-02  -1.50298471e-02   0.00000000e+00\n",
      "   -1.04155351e-02  -2.57864923e-02   8.20980057e-03  -5.85642099e-03\n",
      "    1.85468226e+00]]\n",
      "Hamming Loss:  0.215806701394\n"
     ]
    }
   ],
   "source": [
    "def main():\n",
    "    #load data into matrics X,y\n",
    "    data = load_clean_data()\n",
    "    coeffients, Hamming_Loss = test_logistic_Regression(data=data, C=1000,scale=1)\n",
    "    print coeffients\n",
    "    print \"Hamming Loss: \", Hamming_Loss\n",
    "    \n",
    "if __name__ == '__main__':\n",
    "    main()"
   ]
  },
  {
   "cell_type": "code",
   "execution_count": null,
   "metadata": {
    "collapsed": true
   },
   "outputs": [],
   "source": []
  }
 ],
 "metadata": {
  "kernelspec": {
   "display_name": "Python 2",
   "language": "python",
   "name": "python2"
  },
  "language_info": {
   "codemirror_mode": {
    "name": "ipython",
    "version": 2
   },
   "file_extension": ".py",
   "mimetype": "text/x-python",
   "name": "python",
   "nbconvert_exporter": "python",
   "pygments_lexer": "ipython2",
   "version": "2.7.11"
  }
 },
 "nbformat": 4,
 "nbformat_minor": 0
}
