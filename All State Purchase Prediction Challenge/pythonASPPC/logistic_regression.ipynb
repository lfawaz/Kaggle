{
 "cells": [
  {
   "cell_type": "code",
   "execution_count": 16,
   "metadata": {
    "collapsed": false
   },
   "outputs": [
    {
     "name": "stdout",
     "output_type": "stream",
     "text": [
      "load data...\n",
      "removing nulls...\n",
      "adding is_last column ...\n",
      "adding is_final column -predictor-\n",
      "adding viewed total column...\n",
      "converting states to floats...\n",
      "converting car values to floats...\n",
      "merging all datasets...\n",
      "creating final model...\n",
      "Done!\n",
      "training model...\n",
      "testing model...\n",
      "0.216765803182\n"
     ]
    }
   ],
   "source": [
    "from  sklearn.cross_validation import train_test_split\n",
    "from sklearn import linear_model\n",
    "from sklearn.metrics import confusion_matrix\n",
    "from utils import load_clean_data\n",
    "import matplotlib.pyplot as plt\n",
    "import numpy as np\n",
    "from sklearn.metrics import hamming_loss\n",
    "%matplotlib inline\n",
    "\n",
    "#load data into matrics X,y\n",
    "X,y = load_clean_data()\n",
    "\n",
    "#create training and testing set\n",
    "X_train, X_test, y_train, y_test = train_test_split(X,y, test_size =0.2,random_state=42)\n",
    "\n",
    "#create logistic model\n",
    "ml_model = linear_model.LogisticRegression()\n",
    "\n",
    "#train model\n",
    "print(\"training model...\")\n",
    "ml_logmodel = ml_model.fit(X_train,y_train)\n",
    "\n",
    "#test model\n",
    "print(\"testing model...\")\n",
    "y_pred = ml_logmodel.predict(X_test)\n",
    "\n",
    "\n",
    "#print loss percentage\n",
    "print hamming_loss(y_test,y_pred)\n"
   ]
  }
 ],
 "metadata": {
  "kernelspec": {
   "display_name": "Python 2",
   "language": "python",
   "name": "python2"
  },
  "language_info": {
   "codemirror_mode": {
    "name": "ipython",
    "version": 2
   },
   "file_extension": ".py",
   "mimetype": "text/x-python",
   "name": "python",
   "nbconvert_exporter": "python",
   "pygments_lexer": "ipython2",
   "version": "2.7.11"
  }
 },
 "nbformat": 4,
 "nbformat_minor": 0
}
