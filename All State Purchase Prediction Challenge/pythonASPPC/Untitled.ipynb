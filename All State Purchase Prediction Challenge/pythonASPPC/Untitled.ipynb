{
 "cells": [
  {
   "cell_type": "code",
   "execution_count": 3,
   "metadata": {
    "collapsed": false
   },
   "outputs": [],
   "source": [
    "import pandas as pd\n",
    "import numpy as np\n",
    "import \n",
    "\n",
    "train_csv = pd.read_csv(\"../data/train.csv\")\n",
    "test_csv = pd.read_csv(\"../data/test.csv\")\n",
    "\n",
    "\n",
    "\n",
    "model_data = train_csv\n"
   ]
  },
  {
   "cell_type": "code",
   "execution_count": 4,
   "metadata": {
    "collapsed": false
   },
   "outputs": [],
   "source": [
    "#looking for correlations between number of times a policy view and purchase\n",
    "#train.groupby(['customer_ID','record_type','A','B','C','D','E','F','G']).size()\n",
    "\n",
    "#train[['customer_ID','A','B','C','D','E','F','G']][(train.record_type == 1) | (train.shopping_pt == 1)]\n",
    "\n",
    "sold_records_only = model_data[['customer_ID','shopping_pt','A','B','C','D','E','F','G']][(model_data.record_type == 1)]\n",
    "\n",
    "model_data['is_last'] = 0\n",
    "\n",
    "np_model_data = np.asarray(model_data)\n",
    "\n",
    "#create a column to indicate if this was the last viewed record\n",
    "for i in range(len(np_model_data)):\n",
    "    if np_model_data[i][2] == 1:\n",
    "        np_model_data[i - 1][25] = 1\n",
    "        #model_data['is_last'].iloc[i - 1] = 1\n",
    "\n",
    "model_data = pd.DataFrame(np_model_data, columns=model_data.columns.values)\n"
   ]
  },
  {
   "cell_type": "code",
   "execution_count": 5,
   "metadata": {
    "collapsed": false
   },
   "outputs": [],
   "source": [
    "#create a flag to determine if the record was the finally sold record\n",
    "new_model_data = pd.merge(model_data,sold_records_only,on=['customer_ID','A','B','C','D','E','F','G'], how='outer')\n",
    "\n",
    "new_model_data['is_final'] = new_model_data['shopping_pt_y'].apply(lambda x: 0 if pd.isnull(x) else 1)"
   ]
  },
  {
   "cell_type": "code",
   "execution_count": 7,
   "metadata": {
    "collapsed": false
   },
   "outputs": [
    {
     "data": {
      "text/plain": [
       "Index([u'customer_ID', u'shopping_pt_x', u'record_type', u'day', u'time',\n",
       "       u'state', u'location', u'group_size', u'homeowner', u'car_age',\n",
       "       u'car_value', u'risk_factor', u'age_oldest', u'age_youngest',\n",
       "       u'married_couple', u'C_previous', u'duration_previous', u'A', u'B',\n",
       "       u'C', u'D', u'E', u'F', u'G', u'cost', u'is_last', u'shopping_pt_y',\n",
       "       u'is_final', u'total_viewed', u'is_first'],\n",
       "      dtype='object')"
      ]
     },
     "execution_count": 7,
     "metadata": {},
     "output_type": "execute_result"
    }
   ],
   "source": [
    "\n",
    "customer_by_product = train_csv.groupby(['customer_ID','A','B','C','D','E','F','G']).size().reset_index()\n",
    "customer_by_product.columns = ['customer_ID', 'A', 'B', 'C', 'D', 'E', 'F', 'G', 'total_viewed']\n",
    "\n",
    "newer_model_data = pd.merge(new_model_data,customer_by_product,on=['customer_ID','A','B','C','D','E','F','G'])\n",
    "\n",
    "newer_model_data['is_first'] = new_model_data['shopping_pt_y'].apply(lambda x: 1 if 1 else 0)\n",
    "\n",
    "newer_model_data.columns"
   ]
  },
  {
   "cell_type": "code",
   "execution_count": 58,
   "metadata": {
    "collapsed": false
   },
   "outputs": [],
   "source": [
    "#we exclude the record where the customer made the purchase and the problem becomes\n",
    "#trying to predict the is_final column\n",
    "\n",
    "train = newer_model_data[['day','group_size','homeowner','car_age',\\\n",
    "                          'age_oldest','age_youngest','married_couple',\\\n",
    "                          'cost','is_last','total_viewed','is_first','is_final']][(newer_model_data.record_type != 1)]\n",
    "\n",
    "#train.replace(np.nan,-1).groupby(['cost']).size()\n",
    "X = np.asarray(train.ix[:, train.columns != 'is_final'])\n",
    "\n",
    "y = np.asarray(train.is_final)\n",
    "#X,y"
   ]
  },
  {
   "cell_type": "code",
   "execution_count": 59,
   "metadata": {
    "collapsed": false
   },
   "outputs": [],
   "source": [
    "from  sklearn.cross_validation import train_test_split\n",
    "from sklearn import linear_model\n",
    "\n",
    "X_train, X_test, y_train, y_test = train_test_split(X,y, test_size =0.33,random_state=42)\n"
   ]
  },
  {
   "cell_type": "code",
   "execution_count": 60,
   "metadata": {
    "collapsed": false
   },
   "outputs": [],
   "source": [
    "ml_model = linear_model.LogisticRegression()"
   ]
  },
  {
   "cell_type": "code",
   "execution_count": 63,
   "metadata": {
    "collapsed": false
   },
   "outputs": [],
   "source": [
    "ml_logmodel = ml_model.fit(X_train,y_train)"
   ]
  },
  {
   "cell_type": "code",
   "execution_count": 64,
   "metadata": {
    "collapsed": false
   },
   "outputs": [],
   "source": [
    "prediction = ml_logmodel.predict(X_test)"
   ]
  },
  {
   "cell_type": "code",
   "execution_count": 67,
   "metadata": {
    "collapsed": false
   },
   "outputs": [],
   "source": [
    "l = []\n",
    "for i in range(len(prediction)):\n",
    "    if prediction[i] == y_test[i]:\n",
    "        l.append(1)\n",
    "    else:\n",
    "        l.append(0)"
   ]
  },
  {
   "cell_type": "code",
   "execution_count": 70,
   "metadata": {
    "collapsed": false
   },
   "outputs": [],
   "source": [
    "results = pd.DataFrame(l,columns=['is_predicted'])"
   ]
  },
  {
   "cell_type": "code",
   "execution_count": 76,
   "metadata": {
    "collapsed": false
   },
   "outputs": [
    {
     "data": {
      "text/plain": [
       "<matplotlib.axes._subplots.AxesSubplot at 0x12265b250>"
      ]
     },
     "execution_count": 76,
     "metadata": {},
     "output_type": "execute_result"
    },
    {
     "data": {
      "image/png": "[encoded data removed]",
      "text/plain": [
       "<matplotlib.figure.Figure at 0x122769710>"
      ]
     },
     "metadata": {},
     "output_type": "display_data"
    }
   ],
   "source": [
    "x = results.groupby('is_predicted').size()\n",
    "import matplotlib.pyplot as plt\n",
    "%matplotlib inline\n",
    "x.plot.bar()"
   ]
  },
  {
   "cell_type": "code",
   "execution_count": null,
   "metadata": {
    "collapsed": true
   },
   "outputs": [],
   "source": []
  }
 ],
 "metadata": {
  "kernelspec": {
   "display_name": "Python 2",
   "language": "python",
   "name": "python2"
  },
  "language_info": {
   "codemirror_mode": {
    "name": "ipython",
    "version": 2
   },
   "file_extension": ".py",
   "mimetype": "text/x-python",
   "name": "python",
   "nbconvert_exporter": "python",
   "pygments_lexer": "ipython2",
   "version": "2.7.11"
  }
 },
 "nbformat": 4,
 "nbformat_minor": 0
}
