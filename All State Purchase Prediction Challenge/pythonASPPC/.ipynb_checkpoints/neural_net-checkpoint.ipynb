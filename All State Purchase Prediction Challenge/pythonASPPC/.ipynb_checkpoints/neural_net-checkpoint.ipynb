{
 "cells": [
  {
   "cell_type": "code",
   "execution_count": 16,
   "metadata": {
    "collapsed": false
   },
   "outputs": [],
   "source": [
    "from sknn.mlp import Classifier, Layer\n",
    "from  sklearn.cross_validation import train_test_split\n",
    "from utils import grid_search,load_clean_data\n",
    "import datetime\n",
    "\n",
    "str(datetime.datetime.now())\n",
    "def test_mlp_classifier(X,y,layers=[Layer(\"Rectifier\",units=10),Layer('Softmax')],learning_rate=0.02,n_iter=1):\n",
    "    \n",
    "   \n",
    "    #since our test set is not labeled I am using the training data provided for train, validation and test\n",
    "    print (\"Create, train, test, validation_sets\")\n",
    "    X_train_valid, X_test, y_train_valid, y_test = train_test_split(X,y, test_size =0.2,random_state=42)\n",
    "    X_train, X_valid, y_train, y_valid = train_test_split(X_train_valid,y_train_valid, test_size =0.2,random_state=23)\n",
    "    \n",
    "    print(\"Building the model...\")\n",
    "    nn = Classifier(\n",
    "        layers=layers,\n",
    "        learning_rate=learning_rate,\n",
    "        n_iter=n_iter)\n",
    "    \n",
    "    print(\"Training...\")\n",
    "    nn.fit(X_train, y_train)\n",
    "    \n",
    "    print(\"Testing...\")\n",
    "    y_valid = nn.predict(X_train)\n",
    "\n",
    "    print(\"Score...\")\n",
    "    score = nn.score(X_test, y_test)\n",
    "    \n",
    "    return score,layers,learning_rate,n_iter\n"
   ]
  },
  {
   "cell_type": "code",
   "execution_count": null,
   "metadata": {
    "collapsed": false
   },
   "outputs": [
    {
     "name": "stdout",
     "output_type": "stream",
     "text": [
      "load data...\n",
      "removing nulls...\n",
      "adding is_last column ...\n",
      "adding is_final column -predictor-\n",
      "adding viewed total column...\n",
      "converting states to floats...\n",
      "converting car values to floats...\n",
      "merging all datasets...\n",
      "creating final model...\n",
      "Done!\n",
      "Create, train, test, validation_sets\n",
      "Building the model...\n",
      "Training...\n"
     ]
    }
   ],
   "source": [
    "def main():\n",
    "    X,y = load_clean_data()\n",
    "    \n",
    "    network_configs = [{\"layers\":\"[Layer('Rectifier',units=20),Layer('Softmax')]\",\"learning_rate\": 0.02,\"n_inter\": 100},\n",
    "              {\"layers\":\"[Layer('Rectifier',units=40),Layer('Softmax')]\",\"learning_rate\": 0.03,\"n_inter\": 100},\n",
    "              {\"layers\":\"[Layer('Rectifier',units=60),Layer('Softmax')]\",\"learning_rate\": 0.01,\"n_inter\": 100},\n",
    "              {\"layers\":\"[Layer('Rectifier',units=80),Layer('Softmax')]\",\"learning_rate\": 0.01,\"n_inter\": 100},\n",
    "              {\"layers\":\"[Layer('Rectifier',units=100),Layer('Softmax')]\",\"learning_rate\": 0.001,\"n_inter\": 100},\n",
    "              {\"layers\":\"[Layer('Rectifier',units=20),Layer('Rectifier',units=20),Layer('Softmax')]\",\"learning_rate\": 0.01,\"n_inter\": 100},\n",
    "              {\"layers\":\"[Layer('Rectifier',units=40),Layer('Rectifier',units=40),Layer('Softmax')]\",\"learning_rate\": 0.01,\"n_inter\": 100},\n",
    "              {\"layers\":\"[Layer('Rectifier',units=60),Layer('Rectifier',units=60),Layer('Softmax')]\",\"learning_rate\": 0.01,\"n_inter\": 100},\n",
    "              {\"layers\":\"[Layer('Rectifier',units=80),Layer('Rectifier',units=80),Layer('Softmax')]\",\"learning_rate\": 0.01,\"n_inter\": 100},\n",
    "              {\"layers\":\"[Layer('Rectifier',units=100),Layer('Rectifier',units=100),Layer('Softmax')]\",\"learning_rate\": 0.001,\"n_inter\": 100}]\n",
    "    \n",
    "    for config in network_configs:       \n",
    "        score,layers,learning_rate,n_iter = test_mlp_classifier(X=X,y=y,layers=eval(config.get('layers')),learning_rate=config.get('learning_rate'),n_iter=config.get('n_inter'))\n",
    "        line = (\"score: %s, layers: %s, learning_rate: %s, n_iter %s\" %(score, layers, learning_rate, n_iter))\n",
    "        f = open('neural_net_score','a')\n",
    "        f.write(\"\\n start:  %s | \" %(str(datetime.datetime.now())))\n",
    "        f.write(line)\n",
    "        f.write(\" | End %s\" %(str(datetime.datetime.now())))\n",
    "        f.close()\n",
    "\n",
    "\n",
    "if __name__ == \"__main__\":\n",
    "    main()\n"
   ]
  },
  {
   "cell_type": "code",
   "execution_count": null,
   "metadata": {
    "collapsed": true
   },
   "outputs": [],
   "source": []
  },
  {
   "cell_type": "code",
   "execution_count": null,
   "metadata": {
    "collapsed": true
   },
   "outputs": [],
   "source": []
  }
 ],
 "metadata": {
  "kernelspec": {
   "display_name": "Python 2",
   "language": "python",
   "name": "python2"
  },
  "language_info": {
   "codemirror_mode": {
    "name": "ipython",
    "version": 2
   },
   "file_extension": ".py",
   "mimetype": "text/x-python",
   "name": "python",
   "nbconvert_exporter": "python",
   "pygments_lexer": "ipython2",
   "version": "2.7.11"
  }
 },
 "nbformat": 4,
 "nbformat_minor": 0
}
